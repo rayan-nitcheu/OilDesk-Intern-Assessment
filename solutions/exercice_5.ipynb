{
 "cells": [
  {
   "cell_type": "code",
   "execution_count": null,
   "id": "initial_id",
   "metadata": {
    "collapsed": true
   },
   "outputs": [],
   "source": [
    "%run \"/Users/rayannitcheu/Documents/GitHub/OilDesk-Intern-Assessment/solutions/exercice_3.ipynb\""
   ]
  },
  {
   "cell_type": "markdown",
   "source": [],
   "metadata": {
    "collapsed": false
   },
   "id": "d2376814a48a7cb"
  },
  {
   "cell_type": "code",
   "outputs": [],
   "source": [
    "import asyncio\n",
    "import aiosqlite\n",
    "from sqlalchemy.ext.asyncio import create_async_engine, AsyncSession\n",
    "from sqlalchemy.orm import sessionmaker\n",
    "from sqlalchemy import select"
   ],
   "metadata": {
    "collapsed": false
   },
   "id": "6fb3cf01f8161c05"
  },
  {
   "cell_type": "code",
   "outputs": [],
   "source": [
    "async def async_add_non_existing_columns():\n",
    "    async with aiosqlite.connect('metal_prices.db') as db:\n",
    "        cursor = await db.cursor()\n",
    "\n",
    "        # Vérifier si la colonne 'rsi' existe\n",
    "        res = await cursor.execute(\"PRAGMA table_info(metal_prices)\")\n",
    "        existing_columns = [c[1] for c in await res.fetchall()] # Extracting the name of the column from the resulting tuples \n",
    "\n",
    "        if 'rsi' not in existing_columns:\n",
    "            await cursor.execute(\"ALTER TABLE metal_prices ADD COLUMN rsi FLOAT\")\n",
    "\n",
    "        if 'macd' not in existing_columns:\n",
    "            await cursor.execute(\"ALTER TABLE metal_prices ADD COLUMN macd FLOAT\")\n",
    "\n",
    "        await db.commit()"
   ],
   "metadata": {
    "collapsed": false
   },
   "id": "485439fb6c70fb8f"
  },
  {
   "cell_type": "code",
   "outputs": [
    {
     "ename": "SyntaxError",
     "evalue": "invalid syntax (2638770353.py, line 2)",
     "output_type": "error",
     "traceback": [
      "\u001B[0;36m  Cell \u001B[0;32mIn[1], line 2\u001B[0;36m\u001B[0m\n\u001B[0;31m    async = create_async_engine('sqlite+aiosqlite:///metal_prices.db')\u001B[0m\n\u001B[0m          ^\u001B[0m\n\u001B[0;31mSyntaxError\u001B[0m\u001B[0;31m:\u001B[0m invalid syntax\n"
     ]
    }
   ],
   "source": [
    "# Créer un moteur SQLAlchemy asynchrone\n",
    "async_engine = create_async_engine('sqlite+aiosqlite:///metal_prices.db')\n",
    "SessionAsync = sessionmaker(async_engine, class_=AsyncSession, expire_on_commit=False)"
   ],
   "metadata": {
    "collapsed": false,
    "ExecuteTime": {
     "end_time": "2024-10-04T00:26:50.044746Z",
     "start_time": "2024-10-04T00:26:50.037553Z"
    }
   },
   "id": "6c8f31a237a8d722",
   "execution_count": 1
  },
  {
   "cell_type": "code",
   "outputs": [],
   "source": [
    "async def async_update_indicators(data, indicator):\n",
    "    async with SessionAsync() as session:\n",
    "        if isinstance(data, list):\n",
    "            for d in data:\n",
    "                res = await session.execute(select(MetalTable).filter_by(date=d.get(\"Date\"), metal=d.get(\"Metal\")))\n",
    "                record = res.all()\n",
    "                if record:\n",
    "                    if \"RSI\" in indicator:\n",
    "                        record[0][0].rsi = d.get(indicator)\n",
    "                    if \"MACD\" in indicator:\n",
    "                        record[0][0].macd = d.get(indicator)\n",
    "        else:\n",
    "            res = await session.execute(\n",
    "                select(MetalTable).filter_by(date=data.get(\"Date\"), metal=data.get(\"Metal\")))\n",
    "            record = res.all()\n",
    "            if record:\n",
    "                if indicator == \"RSI\":\n",
    "                    record[0][0].rsi = data.get(indicator)\n",
    "                if indicator == \"MACD\":\n",
    "                    record[0][0].macd = data.get(indicator)\n",
    "\n",
    "        await session.commit()\n",
    "\n",
    "\n",
    "async def async_update_commo(commo):\n",
    "    # Ces fonctions sont supposées être définies ailleurs dans votre code\n",
    "    df_rsi = data_w_indicators[[f\"{commo}-RSI\"]].iloc[rsi_window:, :]\n",
    "    df_rsi.columns = [commo]\n",
    "\n",
    "    df_macd = data_w_indicators[[f\"{commo}-MACD\"]].iloc[max_window:, :]\n",
    "    df_macd.columns = [commo]\n",
    "\n",
    "    sql_rsi = convert_df_to_sql(df_rsi, \"RSI\")\n",
    "    sql_macd = convert_df_to_sql(df_macd, \"MACD\")\n",
    "\n",
    "    await async_update_indicators(sql_rsi, \"RSI\")\n",
    "    await async_update_indicators(sql_macd, \"MACD\")\n",
    "\n",
    "\n",
    "async def async_read_from_db():\n",
    "    async with SessionAsync() as session:\n",
    "        res = await session.execute(select(MetalTable))\n",
    "        return res.scalars().all()\n",
    "\n",
    "\n",
    "async def main():\n",
    "    # Ajouter les colonnes manquantes\n",
    "    await async_add_non_existing_columns()\n",
    "\n",
    "    # Traiter toutes les matières premières de manière asynchrone\n",
    "    tasks = [async_update_commo(commo) for commo in commodities_list]\n",
    "    await asyncio.gather(*tasks)\n",
    "\n",
    "    # Lire depuis la base de données 5 fois de manière concurrente\n",
    "    reading_tasks = [async_read_from_db() for _ in range(5)]\n",
    "    reading_res = await asyncio.gather(*reading_tasks)\n",
    "\n",
    "    # Afficher les résultats de lecture\n",
    "    for i, res in enumerate(reading_res, 1):\n",
    "        print(f\"Lecture {i}: {res}\")"
   ],
   "metadata": {
    "collapsed": false
   },
   "id": "7ac3ce48df5927fc"
  },
  {
   "cell_type": "code",
   "outputs": [],
   "source": [
    "asyncio.run(main())"
   ],
   "metadata": {
    "collapsed": false
   },
   "id": "c9b1ff5b27c0ecab"
  }
 ],
 "metadata": {
  "kernelspec": {
   "display_name": "Python 3",
   "language": "python",
   "name": "python3"
  },
  "language_info": {
   "codemirror_mode": {
    "name": "ipython",
    "version": 2
   },
   "file_extension": ".py",
   "mimetype": "text/x-python",
   "name": "python",
   "nbconvert_exporter": "python",
   "pygments_lexer": "ipython2",
   "version": "2.7.6"
  }
 },
 "nbformat": 4,
 "nbformat_minor": 5
}
